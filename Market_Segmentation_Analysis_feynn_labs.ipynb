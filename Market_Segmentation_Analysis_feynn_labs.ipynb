{
 "cells": [
  {
   "cell_type": "code",
   "execution_count": 1,
   "id": "856a0743",
   "metadata": {},
   "outputs": [],
   "source": [
    "import pandas as pd\n",
    "import numpy as np\n",
    "import matplotlib.pyplot as plt\n",
    "import seaborn as sns\n",
    "from sklearn.decomposition import PCA\n",
    "from sklearn.preprocessing import StandardScaler\n",
    "from sklearn.cluster import KMeans\n",
    "from sklearn.utils import resample\n",
    "from sklearn.metrics import adjusted_rand_score\n",
    "from sklearn.mixture import GaussianMixture\n",
    "from scipy.cluster.hierarchy import linkage, dendrogram\n",
    "from sklearn.preprocessing import StandardScaler\n",
    "from statsmodels.graphics.mosaicplot import mosaic\n",
    "from sklearn.preprocessing import LabelEncoder\n",
    "from sklearn.tree import DecisionTreeClassifier, plot_tree\n",
    "from sklearn.impute import SimpleImputer\n",
    "from sklearn import preprocessing\n",
    "from bioinfokit.visuz import cluster\n"
   ]
  },
  {
   "cell_type": "code",
   "execution_count": 2,
   "id": "754a3e0e",
   "metadata": {},
   "outputs": [
    {
     "name": "stdout",
     "output_type": "stream",
     "text": [
      "Requirement already satisfied: bioinfokit in c:\\users\\asus\\anaconda3\\lib\\site-packages (2.1.3)\n",
      "Requirement already satisfied: pandas in c:\\users\\asus\\anaconda3\\lib\\site-packages (from bioinfokit) (1.3.4)\n",
      "Requirement already satisfied: numpy in c:\\users\\asus\\anaconda3\\lib\\site-packages (from bioinfokit) (1.20.3)\n",
      "Requirement already satisfied: matplotlib in c:\\users\\asus\\anaconda3\\lib\\site-packages (from bioinfokit) (3.4.3)\n",
      "Requirement already satisfied: scipy in c:\\users\\asus\\anaconda3\\lib\\site-packages (from bioinfokit) (1.6.2)\n",
      "Requirement already satisfied: scikit-learn in c:\\users\\asus\\anaconda3\\lib\\site-packages (from bioinfokit) (0.24.2)\n",
      "Requirement already satisfied: seaborn in c:\\users\\asus\\anaconda3\\lib\\site-packages (from bioinfokit) (0.11.2)\n",
      "Requirement already satisfied: matplotlib-venn in c:\\users\\asus\\anaconda3\\lib\\site-packages (from bioinfokit) (0.11.10)\n",
      "Requirement already satisfied: tabulate in c:\\users\\asus\\anaconda3\\lib\\site-packages (from bioinfokit) (0.9.0)\n",
      "Requirement already satisfied: statsmodels in c:\\users\\asus\\anaconda3\\lib\\site-packages (from bioinfokit) (0.12.2)Note: you may need to restart the kernel to use updated packages.\n",
      "\n",
      "Requirement already satisfied: textwrap3 in c:\\users\\asus\\anaconda3\\lib\\site-packages (from bioinfokit) (0.9.2)\n",
      "Requirement already satisfied: adjustText in c:\\users\\asus\\anaconda3\\lib\\site-packages (from bioinfokit) (1.1.1)\n",
      "Requirement already satisfied: cycler>=0.10 in c:\\users\\asus\\anaconda3\\lib\\site-packages (from matplotlib->bioinfokit) (0.10.0)\n",
      "Requirement already satisfied: kiwisolver>=1.0.1 in c:\\users\\asus\\anaconda3\\lib\\site-packages (from matplotlib->bioinfokit) (1.3.1)\n",
      "Requirement already satisfied: pillow>=6.2.0 in c:\\users\\asus\\anaconda3\\lib\\site-packages (from matplotlib->bioinfokit) (8.4.0)\n",
      "Requirement already satisfied: pyparsing>=2.2.1 in c:\\users\\asus\\anaconda3\\lib\\site-packages (from matplotlib->bioinfokit) (3.0.4)\n",
      "Requirement already satisfied: python-dateutil>=2.7 in c:\\users\\asus\\anaconda3\\lib\\site-packages (from matplotlib->bioinfokit) (2.8.2)\n",
      "Requirement already satisfied: pytz>=2017.3 in c:\\users\\asus\\anaconda3\\lib\\site-packages (from pandas->bioinfokit) (2021.3)\n",
      "Requirement already satisfied: joblib>=0.11 in c:\\users\\asus\\anaconda3\\lib\\site-packages (from scikit-learn->bioinfokit) (1.1.0)\n",
      "Requirement already satisfied: threadpoolctl>=2.0.0 in c:\\users\\asus\\anaconda3\\lib\\site-packages (from scikit-learn->bioinfokit) (2.2.0)\n",
      "Requirement already satisfied: patsy>=0.5 in c:\\users\\asus\\anaconda3\\lib\\site-packages (from statsmodels->bioinfokit) (0.5.2)\n",
      "Requirement already satisfied: six in c:\\users\\asus\\anaconda3\\lib\\site-packages (from cycler>=0.10->matplotlib->bioinfokit) (1.16.0)\n"
     ]
    },
    {
     "name": "stderr",
     "output_type": "stream",
     "text": [
      "DEPRECATION: pyodbc 4.0.0-unsupported has a non-standard version number. pip 24.1 will enforce this behaviour change. A possible replacement is to upgrade to a newer version of pyodbc or contact the author to suggest that they release a version with a conforming version number. Discussion can be found at https://github.com/pypa/pip/issues/12063\n"
     ]
    }
   ],
   "source": [
    "\n",
    "pip install bioinfokit"
   ]
  },
  {
   "cell_type": "code",
   "execution_count": 3,
   "id": "d80db6ba",
   "metadata": {},
   "outputs": [],
   "source": []
  },
  {
   "cell_type": "code",
   "execution_count": 4,
   "id": "70fec5cf",
   "metadata": {},
   "outputs": [],
   "source": [
    "df = pd.read_csv(\"Downloads\\mcdonalds.csv\")\n"
   ]
  },
  {
   "cell_type": "markdown",
   "id": "969bbf46",
   "metadata": {},
   "source": [
    "# Step 4: Exploring Data"
   ]
  },
  {
   "cell_type": "code",
   "execution_count": 5,
   "id": "3f867e52",
   "metadata": {},
   "outputs": [
    {
     "data": {
      "text/html": [
       "<div>\n",
       "<style scoped>\n",
       "    .dataframe tbody tr th:only-of-type {\n",
       "        vertical-align: middle;\n",
       "    }\n",
       "\n",
       "    .dataframe tbody tr th {\n",
       "        vertical-align: top;\n",
       "    }\n",
       "\n",
       "    .dataframe thead th {\n",
       "        text-align: right;\n",
       "    }\n",
       "</style>\n",
       "<table border=\"1\" class=\"dataframe\">\n",
       "  <thead>\n",
       "    <tr style=\"text-align: right;\">\n",
       "      <th></th>\n",
       "      <th>yummy</th>\n",
       "      <th>convenient</th>\n",
       "      <th>spicy</th>\n",
       "      <th>fattening</th>\n",
       "      <th>greasy</th>\n",
       "      <th>fast</th>\n",
       "      <th>cheap</th>\n",
       "      <th>tasty</th>\n",
       "      <th>expensive</th>\n",
       "      <th>healthy</th>\n",
       "      <th>disgusting</th>\n",
       "      <th>Like</th>\n",
       "      <th>Age</th>\n",
       "      <th>VisitFrequency</th>\n",
       "      <th>Gender</th>\n",
       "    </tr>\n",
       "  </thead>\n",
       "  <tbody>\n",
       "    <tr>\n",
       "      <th>0</th>\n",
       "      <td>No</td>\n",
       "      <td>Yes</td>\n",
       "      <td>No</td>\n",
       "      <td>Yes</td>\n",
       "      <td>No</td>\n",
       "      <td>Yes</td>\n",
       "      <td>Yes</td>\n",
       "      <td>No</td>\n",
       "      <td>Yes</td>\n",
       "      <td>No</td>\n",
       "      <td>No</td>\n",
       "      <td>-3</td>\n",
       "      <td>61</td>\n",
       "      <td>Every three months</td>\n",
       "      <td>Female</td>\n",
       "    </tr>\n",
       "    <tr>\n",
       "      <th>1</th>\n",
       "      <td>Yes</td>\n",
       "      <td>Yes</td>\n",
       "      <td>No</td>\n",
       "      <td>Yes</td>\n",
       "      <td>Yes</td>\n",
       "      <td>Yes</td>\n",
       "      <td>Yes</td>\n",
       "      <td>Yes</td>\n",
       "      <td>Yes</td>\n",
       "      <td>No</td>\n",
       "      <td>No</td>\n",
       "      <td>+2</td>\n",
       "      <td>51</td>\n",
       "      <td>Every three months</td>\n",
       "      <td>Female</td>\n",
       "    </tr>\n",
       "    <tr>\n",
       "      <th>2</th>\n",
       "      <td>No</td>\n",
       "      <td>Yes</td>\n",
       "      <td>Yes</td>\n",
       "      <td>Yes</td>\n",
       "      <td>Yes</td>\n",
       "      <td>Yes</td>\n",
       "      <td>No</td>\n",
       "      <td>Yes</td>\n",
       "      <td>Yes</td>\n",
       "      <td>Yes</td>\n",
       "      <td>No</td>\n",
       "      <td>+1</td>\n",
       "      <td>62</td>\n",
       "      <td>Every three months</td>\n",
       "      <td>Female</td>\n",
       "    </tr>\n",
       "  </tbody>\n",
       "</table>\n",
       "</div>"
      ],
      "text/plain": [
       "  yummy convenient spicy fattening greasy fast cheap tasty expensive healthy  \\\n",
       "0    No        Yes    No       Yes     No  Yes   Yes    No       Yes      No   \n",
       "1   Yes        Yes    No       Yes    Yes  Yes   Yes   Yes       Yes      No   \n",
       "2    No        Yes   Yes       Yes    Yes  Yes    No   Yes       Yes     Yes   \n",
       "\n",
       "  disgusting Like  Age      VisitFrequency  Gender  \n",
       "0         No   -3   61  Every three months  Female  \n",
       "1         No   +2   51  Every three months  Female  \n",
       "2         No   +1   62  Every three months  Female  "
      ]
     },
     "execution_count": 5,
     "metadata": {},
     "output_type": "execute_result"
    }
   ],
   "source": [
    "df.head(3)"
   ]
  },
  {
   "cell_type": "code",
   "execution_count": 6,
   "id": "22e8e922",
   "metadata": {},
   "outputs": [
    {
     "data": {
      "text/plain": [
       "(1453, 15)"
      ]
     },
     "execution_count": 6,
     "metadata": {},
     "output_type": "execute_result"
    }
   ],
   "source": [
    "df.shape"
   ]
  },
  {
   "cell_type": "code",
   "execution_count": 7,
   "id": "8fc0998e",
   "metadata": {},
   "outputs": [
    {
     "data": {
      "text/plain": [
       "Index(['yummy', 'convenient', 'spicy', 'fattening', 'greasy', 'fast', 'cheap',\n",
       "       'tasty', 'expensive', 'healthy', 'disgusting', 'Like', 'Age',\n",
       "       'VisitFrequency', 'Gender'],\n",
       "      dtype='object')"
      ]
     },
     "execution_count": 7,
     "metadata": {},
     "output_type": "execute_result"
    }
   ],
   "source": [
    "df.columns"
   ]
  },
  {
   "cell_type": "code",
   "execution_count": 8,
   "id": "6af88b50",
   "metadata": {},
   "outputs": [
    {
     "name": "stdout",
     "output_type": "stream",
     "text": [
      "<class 'pandas.core.frame.DataFrame'>\n",
      "RangeIndex: 1453 entries, 0 to 1452\n",
      "Data columns (total 15 columns):\n",
      " #   Column          Non-Null Count  Dtype \n",
      "---  ------          --------------  ----- \n",
      " 0   yummy           1453 non-null   object\n",
      " 1   convenient      1453 non-null   object\n",
      " 2   spicy           1453 non-null   object\n",
      " 3   fattening       1453 non-null   object\n",
      " 4   greasy          1453 non-null   object\n",
      " 5   fast            1453 non-null   object\n",
      " 6   cheap           1453 non-null   object\n",
      " 7   tasty           1453 non-null   object\n",
      " 8   expensive       1453 non-null   object\n",
      " 9   healthy         1453 non-null   object\n",
      " 10  disgusting      1453 non-null   object\n",
      " 11  Like            1453 non-null   object\n",
      " 12  Age             1453 non-null   int64 \n",
      " 13  VisitFrequency  1453 non-null   object\n",
      " 14  Gender          1453 non-null   object\n",
      "dtypes: int64(1), object(14)\n",
      "memory usage: 90.9+ KB\n"
     ]
    }
   ],
   "source": [
    "df.info()"
   ]
  },
  {
   "cell_type": "code",
   "execution_count": 9,
   "id": "bf7e4207",
   "metadata": {},
   "outputs": [
    {
     "data": {
      "text/plain": [
       "+3              229\n",
       "+2              187\n",
       "0               169\n",
       "+4              160\n",
       "+1              152\n",
       "I hate it!-5    152\n",
       "I love it!+5    143\n",
       "-3               73\n",
       "-4               71\n",
       "-2               59\n",
       "-1               58\n",
       "Name: Like, dtype: int64"
      ]
     },
     "execution_count": 9,
     "metadata": {},
     "output_type": "execute_result"
    }
   ],
   "source": [
    "df['Like'].value_counts()"
   ]
  },
  {
   "cell_type": "code",
   "execution_count": 10,
   "id": "5fa7f822",
   "metadata": {},
   "outputs": [
    {
     "name": "stdout",
     "output_type": "stream",
     "text": [
      "yummy         0.55\n",
      "convenient    0.91\n",
      "spicy         0.09\n",
      "fattening     0.87\n",
      "greasy        0.53\n",
      "fast          0.90\n",
      "cheap         0.60\n",
      "tasty         0.64\n",
      "expensive     0.36\n",
      "healthy       0.20\n",
      "disgusting    0.24\n",
      "dtype: float64\n"
     ]
    }
   ],
   "source": [
    "# To convert the first 11 column entry values to binary values of 0 and 1\n",
    "binary_data = df.iloc[:,0:11].replace('Yes',1).replace('No',0)\n",
    "mean = round(binary_data.mean(),2)\n",
    "print(mean)"
   ]
  },
  {
   "cell_type": "code",
   "execution_count": 74,
   "id": "4684fcd9",
   "metadata": {},
   "outputs": [
    {
     "data": {
      "text/html": [
       "<div>\n",
       "<style scoped>\n",
       "    .dataframe tbody tr th:only-of-type {\n",
       "        vertical-align: middle;\n",
       "    }\n",
       "\n",
       "    .dataframe tbody tr th {\n",
       "        vertical-align: top;\n",
       "    }\n",
       "\n",
       "    .dataframe thead th {\n",
       "        text-align: right;\n",
       "    }\n",
       "</style>\n",
       "<table border=\"1\" class=\"dataframe\">\n",
       "  <thead>\n",
       "    <tr style=\"text-align: right;\">\n",
       "      <th></th>\n",
       "      <th>Standard deviation</th>\n",
       "      <th>Proportion of Variance</th>\n",
       "      <th>Cumulative Proportion</th>\n",
       "    </tr>\n",
       "  </thead>\n",
       "  <tbody>\n",
       "    <tr>\n",
       "      <th>PC1</th>\n",
       "      <td>0.757050</td>\n",
       "      <td>0.299447</td>\n",
       "      <td>0.299447</td>\n",
       "    </tr>\n",
       "    <tr>\n",
       "      <th>PC2</th>\n",
       "      <td>0.607456</td>\n",
       "      <td>0.192797</td>\n",
       "      <td>0.492244</td>\n",
       "    </tr>\n",
       "    <tr>\n",
       "      <th>PC3</th>\n",
       "      <td>0.504619</td>\n",
       "      <td>0.133045</td>\n",
       "      <td>0.625290</td>\n",
       "    </tr>\n",
       "    <tr>\n",
       "      <th>PC4</th>\n",
       "      <td>0.398799</td>\n",
       "      <td>0.083096</td>\n",
       "      <td>0.708386</td>\n",
       "    </tr>\n",
       "    <tr>\n",
       "      <th>PC5</th>\n",
       "      <td>0.337405</td>\n",
       "      <td>0.059481</td>\n",
       "      <td>0.767866</td>\n",
       "    </tr>\n",
       "    <tr>\n",
       "      <th>PC6</th>\n",
       "      <td>0.310275</td>\n",
       "      <td>0.050300</td>\n",
       "      <td>0.818166</td>\n",
       "    </tr>\n",
       "    <tr>\n",
       "      <th>PC7</th>\n",
       "      <td>0.289697</td>\n",
       "      <td>0.043849</td>\n",
       "      <td>0.862015</td>\n",
       "    </tr>\n",
       "    <tr>\n",
       "      <th>PC8</th>\n",
       "      <td>0.275122</td>\n",
       "      <td>0.039548</td>\n",
       "      <td>0.901563</td>\n",
       "    </tr>\n",
       "    <tr>\n",
       "      <th>PC9</th>\n",
       "      <td>0.265251</td>\n",
       "      <td>0.036761</td>\n",
       "      <td>0.938323</td>\n",
       "    </tr>\n",
       "    <tr>\n",
       "      <th>PC10</th>\n",
       "      <td>0.248842</td>\n",
       "      <td>0.032353</td>\n",
       "      <td>0.970677</td>\n",
       "    </tr>\n",
       "    <tr>\n",
       "      <th>PC11</th>\n",
       "      <td>0.236903</td>\n",
       "      <td>0.029323</td>\n",
       "      <td>1.000000</td>\n",
       "    </tr>\n",
       "  </tbody>\n",
       "</table>\n",
       "</div>"
      ],
      "text/plain": [
       "      Standard deviation  Proportion of Variance  Cumulative Proportion\n",
       "PC1             0.757050                0.299447               0.299447\n",
       "PC2             0.607456                0.192797               0.492244\n",
       "PC3             0.504619                0.133045               0.625290\n",
       "PC4             0.398799                0.083096               0.708386\n",
       "PC5             0.337405                0.059481               0.767866\n",
       "PC6             0.310275                0.050300               0.818166\n",
       "PC7             0.289697                0.043849               0.862015\n",
       "PC8             0.275122                0.039548               0.901563\n",
       "PC9             0.265251                0.036761               0.938323\n",
       "PC10            0.248842                0.032353               0.970677\n",
       "PC11            0.236903                0.029323               1.000000"
      ]
     },
     "execution_count": 74,
     "metadata": {},
     "output_type": "execute_result"
    }
   ],
   "source": [
    "# To perform PCA\n",
    "binary_pca = PCA()\n",
    "pca_binary_data = binary_pca.fit_transform(binary_data)\n",
    "binary_pca.fit(binary_data)\n",
    "# To Calculate the proportion of variance given by each principal components,\n",
    "variance = binary_pca.explained_variance_ratio_\n",
    "# To Calculate the standard deviation of the principal components,\n",
    "std = np.sqrt(binary_pca.explained_variance_)\n",
    "li = []\n",
    "for j in range(len(std)):\n",
    "    j = j + 1\n",
    "    li.append(\"PC{}\".format(j))\n",
    "\n",
    "sum_ = pd.DataFrame({ \"Standard deviation\": std, \"Proportion of Variance\": variance, \"Cumulative Proportion\": variance.cumsum()\n",
    "}, index=li)\n",
    "sum_\n"
   ]
  },
  {
   "cell_type": "code",
   "execution_count": 12,
   "id": "8982801d",
   "metadata": {},
   "outputs": [
    {
     "name": "stdout",
     "output_type": "stream",
     "text": [
      "Standard Deviations:\n",
      " [0.8 0.6 0.5 0.4 0.3 0.3 0.3 0.3 0.3 0.2 0.2]\n"
     ]
    }
   ],
   "source": [
    "# to print the standard deviations,\n",
    "print(\"Standard Deviations:\\n\", std.round(1))"
   ]
  },
  {
   "cell_type": "code",
   "execution_count": 47,
   "id": "dbfc04e4",
   "metadata": {},
   "outputs": [
    {
     "name": "stdout",
     "output_type": "stream",
     "text": [
      "\n",
      "Proportion of Variance:\n",
      "[0.3 0.2 0.1 0.1 0.1 0.1 0.  0.  0.  0.  0. ]\n"
     ]
    }
   ],
   "source": [
    "# to print the Variance,\n",
    "print(\"\\nProportion of Variance:\")\n",
    "print(np.round(binary_pca.explained_variance_ratio_, 1))\n"
   ]
  },
  {
   "cell_type": "code",
   "execution_count": 48,
   "id": "26ec5d30",
   "metadata": {},
   "outputs": [
    {
     "name": "stdout",
     "output_type": "stream",
     "text": [
      "\n",
      "Cumulative Proportion:\n",
      "[0.3 0.5 0.6 0.7 0.8 0.8 0.9 0.9 0.9 1.  1. ]\n"
     ]
    }
   ],
   "source": [
    "# to print the Cumulative Proportion,\n",
    "print(\"\\nCumulative Proportion:\")\n",
    "print(np.round(np.cumsum(binary_pca.explained_variance_ratio_), 1))"
   ]
  },
  {
   "cell_type": "code",
   "execution_count": 15,
   "id": "883206b6",
   "metadata": {},
   "outputs": [
    {
     "data": {
      "text/html": [
       "<div>\n",
       "<style scoped>\n",
       "    .dataframe tbody tr th:only-of-type {\n",
       "        vertical-align: middle;\n",
       "    }\n",
       "\n",
       "    .dataframe tbody tr th {\n",
       "        vertical-align: top;\n",
       "    }\n",
       "\n",
       "    .dataframe thead th {\n",
       "        text-align: right;\n",
       "    }\n",
       "</style>\n",
       "<table border=\"1\" class=\"dataframe\">\n",
       "  <thead>\n",
       "    <tr style=\"text-align: right;\">\n",
       "      <th></th>\n",
       "      <th>PC1</th>\n",
       "      <th>PC2</th>\n",
       "      <th>PC3</th>\n",
       "      <th>PC4</th>\n",
       "      <th>PC5</th>\n",
       "      <th>PC6</th>\n",
       "      <th>PC7</th>\n",
       "      <th>PC8</th>\n",
       "      <th>PC9</th>\n",
       "      <th>PC10</th>\n",
       "      <th>PC11</th>\n",
       "    </tr>\n",
       "  </thead>\n",
       "  <tbody>\n",
       "    <tr>\n",
       "      <th>yummy</th>\n",
       "      <td>0.477</td>\n",
       "      <td>-0.364</td>\n",
       "      <td>0.304</td>\n",
       "      <td>-0.055</td>\n",
       "      <td>0.308</td>\n",
       "      <td>-0.171</td>\n",
       "      <td>0.281</td>\n",
       "      <td>-0.013</td>\n",
       "      <td>-0.572</td>\n",
       "      <td>0.110</td>\n",
       "      <td>-0.045</td>\n",
       "    </tr>\n",
       "    <tr>\n",
       "      <th>convenient</th>\n",
       "      <td>0.155</td>\n",
       "      <td>-0.016</td>\n",
       "      <td>0.063</td>\n",
       "      <td>0.142</td>\n",
       "      <td>-0.278</td>\n",
       "      <td>0.348</td>\n",
       "      <td>0.060</td>\n",
       "      <td>0.113</td>\n",
       "      <td>0.018</td>\n",
       "      <td>0.666</td>\n",
       "      <td>0.542</td>\n",
       "    </tr>\n",
       "    <tr>\n",
       "      <th>spicy</th>\n",
       "      <td>0.006</td>\n",
       "      <td>-0.019</td>\n",
       "      <td>0.037</td>\n",
       "      <td>-0.198</td>\n",
       "      <td>-0.071</td>\n",
       "      <td>0.355</td>\n",
       "      <td>-0.708</td>\n",
       "      <td>-0.376</td>\n",
       "      <td>-0.400</td>\n",
       "      <td>0.076</td>\n",
       "      <td>-0.142</td>\n",
       "    </tr>\n",
       "    <tr>\n",
       "      <th>fattening</th>\n",
       "      <td>-0.116</td>\n",
       "      <td>0.034</td>\n",
       "      <td>0.322</td>\n",
       "      <td>0.354</td>\n",
       "      <td>0.073</td>\n",
       "      <td>0.407</td>\n",
       "      <td>0.386</td>\n",
       "      <td>-0.590</td>\n",
       "      <td>0.161</td>\n",
       "      <td>0.005</td>\n",
       "      <td>-0.251</td>\n",
       "    </tr>\n",
       "    <tr>\n",
       "      <th>greasy</th>\n",
       "      <td>-0.304</td>\n",
       "      <td>0.064</td>\n",
       "      <td>0.802</td>\n",
       "      <td>-0.254</td>\n",
       "      <td>-0.361</td>\n",
       "      <td>-0.209</td>\n",
       "      <td>-0.036</td>\n",
       "      <td>0.138</td>\n",
       "      <td>0.003</td>\n",
       "      <td>-0.009</td>\n",
       "      <td>-0.002</td>\n",
       "    </tr>\n",
       "    <tr>\n",
       "      <th>fast</th>\n",
       "      <td>0.108</td>\n",
       "      <td>0.087</td>\n",
       "      <td>0.065</td>\n",
       "      <td>0.097</td>\n",
       "      <td>-0.108</td>\n",
       "      <td>0.595</td>\n",
       "      <td>0.087</td>\n",
       "      <td>0.628</td>\n",
       "      <td>-0.166</td>\n",
       "      <td>-0.240</td>\n",
       "      <td>-0.339</td>\n",
       "    </tr>\n",
       "    <tr>\n",
       "      <th>cheap</th>\n",
       "      <td>0.337</td>\n",
       "      <td>0.611</td>\n",
       "      <td>0.149</td>\n",
       "      <td>-0.119</td>\n",
       "      <td>0.129</td>\n",
       "      <td>0.103</td>\n",
       "      <td>0.040</td>\n",
       "      <td>-0.140</td>\n",
       "      <td>-0.076</td>\n",
       "      <td>-0.428</td>\n",
       "      <td>0.489</td>\n",
       "    </tr>\n",
       "    <tr>\n",
       "      <th>tasty</th>\n",
       "      <td>0.472</td>\n",
       "      <td>-0.307</td>\n",
       "      <td>0.287</td>\n",
       "      <td>0.003</td>\n",
       "      <td>0.211</td>\n",
       "      <td>0.077</td>\n",
       "      <td>-0.360</td>\n",
       "      <td>0.073</td>\n",
       "      <td>0.639</td>\n",
       "      <td>-0.079</td>\n",
       "      <td>-0.020</td>\n",
       "    </tr>\n",
       "    <tr>\n",
       "      <th>expensive</th>\n",
       "      <td>-0.329</td>\n",
       "      <td>-0.601</td>\n",
       "      <td>-0.024</td>\n",
       "      <td>-0.068</td>\n",
       "      <td>0.003</td>\n",
       "      <td>0.261</td>\n",
       "      <td>0.068</td>\n",
       "      <td>-0.030</td>\n",
       "      <td>-0.067</td>\n",
       "      <td>-0.454</td>\n",
       "      <td>0.490</td>\n",
       "    </tr>\n",
       "    <tr>\n",
       "      <th>healthy</th>\n",
       "      <td>0.214</td>\n",
       "      <td>-0.077</td>\n",
       "      <td>-0.192</td>\n",
       "      <td>-0.763</td>\n",
       "      <td>-0.288</td>\n",
       "      <td>0.178</td>\n",
       "      <td>0.350</td>\n",
       "      <td>-0.176</td>\n",
       "      <td>0.186</td>\n",
       "      <td>0.038</td>\n",
       "      <td>-0.158</td>\n",
       "    </tr>\n",
       "    <tr>\n",
       "      <th>disgusting</th>\n",
       "      <td>-0.375</td>\n",
       "      <td>0.140</td>\n",
       "      <td>0.089</td>\n",
       "      <td>-0.370</td>\n",
       "      <td>0.729</td>\n",
       "      <td>0.211</td>\n",
       "      <td>0.027</td>\n",
       "      <td>0.167</td>\n",
       "      <td>0.072</td>\n",
       "      <td>0.290</td>\n",
       "      <td>0.041</td>\n",
       "    </tr>\n",
       "  </tbody>\n",
       "</table>\n",
       "</div>"
      ],
      "text/plain": [
       "              PC1    PC2    PC3    PC4    PC5    PC6    PC7    PC8    PC9  \\\n",
       "yummy       0.477 -0.364  0.304 -0.055  0.308 -0.171  0.281 -0.013 -0.572   \n",
       "convenient  0.155 -0.016  0.063  0.142 -0.278  0.348  0.060  0.113  0.018   \n",
       "spicy       0.006 -0.019  0.037 -0.198 -0.071  0.355 -0.708 -0.376 -0.400   \n",
       "fattening  -0.116  0.034  0.322  0.354  0.073  0.407  0.386 -0.590  0.161   \n",
       "greasy     -0.304  0.064  0.802 -0.254 -0.361 -0.209 -0.036  0.138  0.003   \n",
       "fast        0.108  0.087  0.065  0.097 -0.108  0.595  0.087  0.628 -0.166   \n",
       "cheap       0.337  0.611  0.149 -0.119  0.129  0.103  0.040 -0.140 -0.076   \n",
       "tasty       0.472 -0.307  0.287  0.003  0.211  0.077 -0.360  0.073  0.639   \n",
       "expensive  -0.329 -0.601 -0.024 -0.068  0.003  0.261  0.068 -0.030 -0.067   \n",
       "healthy     0.214 -0.077 -0.192 -0.763 -0.288  0.178  0.350 -0.176  0.186   \n",
       "disgusting -0.375  0.140  0.089 -0.370  0.729  0.211  0.027  0.167  0.072   \n",
       "\n",
       "             PC10   PC11  \n",
       "yummy       0.110 -0.045  \n",
       "convenient  0.666  0.542  \n",
       "spicy       0.076 -0.142  \n",
       "fattening   0.005 -0.251  \n",
       "greasy     -0.009 -0.002  \n",
       "fast       -0.240 -0.339  \n",
       "cheap      -0.428  0.489  \n",
       "tasty      -0.079 -0.020  \n",
       "expensive  -0.454  0.490  \n",
       "healthy     0.038 -0.158  \n",
       "disgusting  0.290  0.041  "
      ]
     },
     "execution_count": 15,
     "metadata": {},
     "output_type": "execute_result"
    }
   ],
   "source": [
    "# To Create a rotation matrix,\n",
    "rotation_matrix = binary_pca.components_.T\n",
    "rotation_df = pd.DataFrame(rotation_matrix, index= binary_data.columns.values, columns=index)\n",
    "rotation_df = round(-rotation_df, 3)\n",
    "rotation_df\n",
    "\n"
   ]
  },
  {
   "cell_type": "code",
   "execution_count": 16,
   "id": "055dae26",
   "metadata": {},
   "outputs": [
    {
     "data": {
      "image/png": "[encoded data removed]",
      "text/plain": [
       "<Figure size 504x504 with 1 Axes>"
      ]
     },
     "metadata": {
      "needs_background": "light"
     },
     "output_type": "display_data"
    }
   ],
   "source": [
    "# To Calculate the factor loadings\n",
    "load = (binary_pca.components_)\n",
    "i = 0\n",
    "cluster.biplot(cscore=pca_binary_data, loadings=-load, labels=df.columns.values,var1=0,var2=0, show=True, dim=(8,8))"
   ]
  },
  {
   "cell_type": "markdown",
   "id": "2f6976e9",
   "metadata": {},
   "source": [
    "# Step 5: Extracting Segments"
   ]
  },
  {
   "cell_type": "markdown",
   "id": "fbc592d5",
   "metadata": {},
   "source": [
    "## Using k-Means"
   ]
  },
  {
   "cell_type": "code",
   "execution_count": 50,
   "id": "34916551",
   "metadata": {},
   "outputs": [
    {
     "data": {
      "image/png": "[encoded data removed]",
      "text/plain": [
       "<Figure size 432x288 with 1 Axes>"
      ]
     },
     "metadata": {
      "needs_background": "light"
     },
     "output_type": "display_data"
    }
   ],
   "source": [
    "np.random.seed(1234)\n",
    "# number of repetitions\n",
    "no_repition = 10\n",
    "#number of segments\n",
    "no_segments = range(1, 9)\n",
    "disatnces_cluster = []\n",
    "binary_k_means = {}\n",
    "for k in no_segments:\n",
    "    kmeans = KMeans(n_clusters=k, n_init=no_repition, random_state=1234)\n",
    "    kmeans.fit(binary_data)\n",
    "    #To calculate the cluster distances\n",
    "    disatnces_cluster.append(kmeans.inertia_)\n",
    "    binary_k_means[str(k)] = kmeans\n",
    "# to plot \n",
    "plt.bar(no_segments, disatnces_cluster)\n",
    "plt.xlabel(\"Number of segments\")\n",
    "plt.ylabel(\"Sum of within-cluster distances\")\n",
    "plt.title(\"Segmentation Results\")\n",
    "plt.show()"
   ]
  },
  {
   "cell_type": "code",
   "execution_count": 55,
   "id": "1890d2ab",
   "metadata": {},
   "outputs": [
    {
     "data": {
      "image/png": "[encoded data removed]",
      "text/plain": [
       "<Figure size 432x288 with 1 Axes>"
      ]
     },
     "metadata": {
      "needs_background": "light"
     },
     "output_type": "display_data"
    }
   ],
   "source": [
    "# k-Means clustering \n",
    "final = {}\n",
    "for k in range(2,9):\n",
    "    kmeans_model = KMeans(n_clusters=k, n_init=10, random_state=1234)\n",
    "    kmeans_labels = kmeans_model.fit_predict(binary_data)\n",
    "    final[str(k)] = kmeans_labels\n",
    "    df['Cluster Number'] = kmeans_labels\n",
    "# Calculating adjusted rand index \n",
    "val = []\n",
    "for i in range(2, 9):\n",
    "    val.append([adjusted_rand_score(final[str(i)], final[str(j)]) for j in range(2, 9)])\n",
    "\n",
    "val = np.array(val)\n",
    "\n",
    "# Create a box plot\n",
    "plt.boxplot(val, labels=list(range(2, 9)))\n",
    "plt.xlabel('Number of Segments (k)')\n",
    "plt.ylabel('Adjusted Rand Index')\n",
    "plt.show()"
   ]
  },
  {
   "cell_type": "code",
   "execution_count": 59,
   "id": "735f9ec0",
   "metadata": {},
   "outputs": [
    {
     "data": {
      "image/png": "[encoded data removed]",
      "text/plain": [
       "<Figure size 864x576 with 4 Axes>"
      ]
     },
     "metadata": {
      "needs_background": "light"
     },
     "output_type": "display_data"
    }
   ],
   "source": [
    "range_values = (0, 1)\n",
    "num_bins = 10\n",
    "max_frequency = 200\n",
    "fig, axs = plt.subplots(2, 2, figsize=(12, 8))\n",
    "for i in range(1, 5):\n",
    "    labels = binary_k_means[str(i)].predict(binary_data)\n",
    "    sim = binary_k_means[str(i)].transform(binary_data).min(axis=1)\n",
    "    # histogram \n",
    "    row = (i - 1) // 2\n",
    "    col = (i - 1) % 2\n",
    "    axs[row, col].hist(sim, bins=num_bins, range=range_values)\n",
    "    axs[row, col].set_xlabel('Similarity')\n",
    "    axs[row, col].set_ylabel('Percent of Total')\n",
    "    axs[row, col].set_title('cluster {}'.format(i)\n",
    "    axs[row, col].set_xlim(range_values)\n",
    "    axs[row, col].set_ylim(0, max_frequency)\n",
    "    axs[row, col].set_xticks([0, 0.2, 0.4, 0.6, 0.8, 1.0])\n",
    "plt.tight_layout()\n",
    "plt.show()\n",
    "     "
   ]
  },
  {
   "cell_type": "code",
   "execution_count": 56,
   "id": "72e760e2",
   "metadata": {},
   "outputs": [
    {
     "data": {
      "image/png": "[encoded data removed]",
      "text/plain": [
       "<Figure size 576x432 with 1 Axes>"
      ]
     },
     "metadata": {
      "needs_background": "light"
     },
     "output_type": "display_data"
    }
   ],
   "source": [
    "number_of__segments = range(2, 9)\n",
    "stability = []\n",
    "for i in range(2, 9):\n",
    "    labels_segment = binary_k_means[str(i)].predict(binary_data)\n",
    "    stability.append(labels_segment)\n",
    "plt.figure(figsize=(8, 6))\n",
    "for i, j in enumerate(range(2, 9)):\n",
    "    plt.plot(number_of__segments, [np.mean(stability[i] == labels)\n",
    "    for labels in stability], marker='o', label=f'Segment {j}')\n",
    "plt.xlabel('Number of Segments')\n",
    "plt.ylabel('Segment Level Stability')\n",
    "plt.title('Segment Level Stability Across Solutions (SLSA) Plot')\n",
    "plt.xticks(num_segments)\n",
    "plt.legend()\n",
    "plt.grid(True)\n",
    "plt.show()\n",
    "     "
   ]
  },
  {
   "cell_type": "code",
   "execution_count": 57,
   "id": "bd0d3d0e",
   "metadata": {},
   "outputs": [
    {
     "data": {
      "image/png": "[encoded data removed]",
      "text/plain": [
       "<Figure size 432x288 with 1 Axes>"
      ]
     },
     "metadata": {
      "needs_background": "light"
     },
     "output_type": "display_data"
    }
   ],
   "source": [
    "solutions = [\"2\", \"3\", \"4\", \"5\"]\n",
    "\n",
    "segment_wise_labels = {}\n",
    "\n",
    "segment_wise_similarities = {}\n",
    "for i in solutions:\n",
    "    segment_wise_labels[i] = binary_k_means[i].predict(binary_data)\n",
    "    segment_wise_similarities[i] = binary_k_means[i].transform(binary_data).min(axis=1)\n",
    "stability_values = []\n",
    "\n",
    "for i in solutions:\n",
    "    similarities = segment_wise_similarities[i]\n",
    "\n",
    "    # Normalize \n",
    "    normalized = similarities / np.max(similarities)\n",
    "    stability_values.append(normalized)\n",
    "# plot\n",
    "plt.boxplot(stability_values, whis=1.5)\n",
    "plt.xlabel(\"Segment Number\")\n",
    "plt.ylabel(\"Segment Stability\")\n",
    "\n",
    "plt.xticks(range(1, len(solutions) + 1), solutions)\n",
    "\n",
    "plt.ylim(0, 1)\n",
    "\n",
    "plt.title(\"Segment Level Stability within Solutions\")\n",
    "\n",
    "plt.show()"
   ]
  },
  {
   "cell_type": "code",
   "execution_count": 61,
   "id": "82d83064",
   "metadata": {},
   "outputs": [
    {
     "name": "stdout",
     "output_type": "stream",
     "text": [
      "   iter  converged  k  k0       logLik          AIC          BIC          ICL\n",
      "0     8       True  2   2 -2145.503727  4295.007454  4305.570225  4304.904547\n",
      "1     9       True  3   3 -1818.909833  3643.819667  3659.663824  3658.594825\n",
      "2     8       True  4   4 -1602.930346  3213.860691  3234.986234  3233.658374\n",
      "3     6       True  5   5 -1434.859229  2879.718459  2906.125387  2904.533283\n",
      "4     7       True  6   6 -1355.872316  2723.744632  2755.432946  2753.702263\n",
      "5    13       True  7   7 -1248.233345  2510.466691  2547.436390  2545.529889\n",
      "6     5       True  8   8 -1200.917049  2417.834098  2460.085184  2458.072685\n"
     ]
    }
   ],
   "source": [
    "from scipy.stats import entropy\n",
    "np.random.seed(12345)\n",
    "k = range(2, 9)\n",
    "#  for different k-values\n",
    "bianry_k_values__ = []\n",
    "for i in k:\n",
    "    # Create a KMeans model \n",
    "    model = KMeans(n_clusters=i, random_state=12345)\n",
    "    model.fit(binary_data.values)\n",
    "    # number of iterations \n",
    "    iter_val = model.n_iter_\n",
    "    converged = True\n",
    "    k_value = i\n",
    "    ki_value = i\n",
    "    log = -model.inertia_\n",
    "    # To Get the number of samples and features in the data\n",
    "    no_samples, _ = binary_data.shape\n",
    "    # To Calculate the Akaike Information Criterion (AIC) and Bayesian Information Criterion (BIC)\n",
    "    aic = -2 * log + 2 * i\n",
    "    bic = -2 * log + np.log(n_samples) * i\n",
    "\n",
    "    # cluster labels \n",
    "    labels = model.labels_\n",
    "\n",
    "    # number of samples in each cluster and calculate the probability of each cluster\n",
    "    counts = np.bincount(labels)\n",
    "    probs = counts / float(counts.sum())\n",
    "\n",
    "    # entropy of the cluster probabilities\n",
    "    class_entropy = entropy(probs)\n",
    "\n",
    "    # Integrated Completed Likelihood (ICL)\n",
    "    icl = bic - class_entropy\n",
    "\n",
    "    # Append the evaluation metrics \n",
    "    bianry_k_values__.append((iter_val, converged, k_value, ki_value, log, aic, bic, icl))\n",
    "\n",
    "# Create a DataFrame \n",
    "bianry_k_values__ = pd.DataFrame(MD_m28, columns=['iter', 'converged', 'k', 'k0', 'logLik', 'AIC', 'BIC', 'ICL'])\n",
    "\n",
    "print(bianry_k_values__)\n"
   ]
  },
  {
   "cell_type": "code",
   "execution_count": 62,
   "id": "1fa57d87",
   "metadata": {},
   "outputs": [
    {
     "data": {
      "image/png": "[encoded data removed]",
      "text/plain": [
       "<Figure size 432x288 with 1 Axes>"
      ]
     },
     "metadata": {
      "needs_background": "light"
     },
     "output_type": "display_data"
    }
   ],
   "source": [
    "# To Extract the number of segments (k-values) and corresponding AIC, BIC, and ICL values from the bianry_k_values__ DataFrame\n",
    "number_of_segments = bianry_k_values__[\"k\"]\n",
    "AIC_values = bianry_k_values__[\"AIC\"]\n",
    "BIC_values = bianry_k_values__[\"BIC\"]\n",
    "ICL_values = bianry_k_values__[\"ICL\"]\n",
    "\n",
    "plt.plot(number_of_segments, AIC_values, marker='o', label='AIC')\n",
    "plt.plot(number_of_segments, BIC_values, marker='o', label='BIC')\n",
    "plt.plot(number_of_segments, ICL_values, marker='o', label='ICL')\n",
    "\n",
    "plt.xlabel('Number of Segments')\n",
    "plt.ylabel('Value of Information Criteria')\n",
    "plt.title('Information Criteria (AIC, BIC, ICL)')\n",
    "\n",
    "\n",
    "plt.legend()\n",
    "plt.grid(True)\n",
    "plt.show()"
   ]
  },
  {
   "cell_type": "code",
   "execution_count": 64,
   "id": "e7f4673f",
   "metadata": {},
   "outputs": [
    {
     "name": "stdout",
     "output_type": "stream",
     "text": [
      "mixture    0    1    2    3\n",
      "kmeans                     \n",
      "0          0  340    0  186\n",
      "1          0   49  259   65\n",
      "2        199    1   35    4\n",
      "3        256    2    0   57\n",
      "kmeans   0   1   2   3\n",
      "kmeans                \n",
      "0       55  20  20  14\n",
      "1       47  17  14   5\n",
      "2       26  15   6   3\n",
      "3       42  11  10   7\n"
     ]
    }
   ],
   "source": [
    "from sklearn.mixture import GaussianMixture\n",
    "\n",
    "# Set the number of clusters (segments) to 4\n",
    "k = 4\n",
    "\n",
    "# KMeans clustering \n",
    "kmeans = KMeans(n_clusters=k, random_state=1234)\n",
    "kmeans.fit(binary_data)\n",
    "kmeans_clusters = kmeans.predict(binary_data)\n",
    "\n",
    "# To Perform Gaussian Mixture Model (GMM) \n",
    "Gaussian = GaussianMixture(n_components=k, random_state=1234)\n",
    "Gaussian.fit(binary_data)\n",
    "Gaussian_clusters = Gaussian.predict(binary_data)\n",
    "final = pd.DataFrame({'kmeans': kmeans_clusters, 'mixture': Gaussian_clusters})\n",
    "dat = binary_data[final['mixture'] == 3]\n",
    "\n",
    "# KMeans clustering \n",
    "kmeans_4 = KMeans(n_clusters=k, random_state=1234)\n",
    "kmeans_4.fit(dat)\n",
    "kmeans_4_clusters = kmeans_4.predict(dat)\n",
    "\n",
    "\n",
    "results_4 = pd.DataFrame({'kmeans': kmeans_4_clusters, 'mixture': 3})\n",
    "\n",
    "# cross-tabulation of KMeans and GMM cluster \n",
    "print(pd.crosstab(final['kmeans'], final['mixture']))\n",
    "\n",
    "\n",
    "print(pd.crosstab(final['kmeans'], results_4['kmeans']))\n",
    "\n"
   ]
  },
  {
   "cell_type": "code",
   "execution_count": 66,
   "id": "ade63d53",
   "metadata": {},
   "outputs": [
    {
     "name": "stdout",
     "output_type": "stream",
     "text": [
      "Log-likelihood for Gaussian_m: 11.15131671484581\n",
      "Log-likelihood for Gaussian_m_: 12.11593850222996\n"
     ]
    }
   ],
   "source": [
    "\n",
    "Gaussian_m = GaussianMixture(n_components=4)\n",
    "Gaussian_m.fit(binary_data)\n",
    "\n",
    "log_m_ = Gaussian_m.score(binary_data)\n",
    "\n",
    "Gaussian_m_ = GaussianMixture(n_components=4)\n",
    "Gaussian_m_.fit(binary_data)\n",
    "\n",
    "log_m = Gaussian_m_.score(binary_data)\n",
    "\n",
    "\n",
    "print(\"Log-likelihood for Gaussian_m:\", log_m_)\n",
    "print(\"Log-likelihood for Gaussian_m_:\", log_m)\n"
   ]
  },
  {
   "cell_type": "markdown",
   "id": "6e36d6bf",
   "metadata": {},
   "source": [
    "# Using Mixtures of Regression Models"
   ]
  },
  {
   "cell_type": "code",
   "execution_count": 67,
   "id": "384ab706",
   "metadata": {},
   "outputs": [
    {
     "data": {
      "text/html": [
       "<div>\n",
       "<style scoped>\n",
       "    .dataframe tbody tr th:only-of-type {\n",
       "        vertical-align: middle;\n",
       "    }\n",
       "\n",
       "    .dataframe tbody tr th {\n",
       "        vertical-align: top;\n",
       "    }\n",
       "\n",
       "    .dataframe thead th {\n",
       "        text-align: right;\n",
       "    }\n",
       "</style>\n",
       "<table border=\"1\" class=\"dataframe\">\n",
       "  <thead>\n",
       "    <tr style=\"text-align: right;\">\n",
       "      <th></th>\n",
       "      <th>Like</th>\n",
       "    </tr>\n",
       "  </thead>\n",
       "  <tbody>\n",
       "    <tr>\n",
       "      <th>-1</th>\n",
       "      <td>58</td>\n",
       "    </tr>\n",
       "    <tr>\n",
       "      <th>-2</th>\n",
       "      <td>59</td>\n",
       "    </tr>\n",
       "    <tr>\n",
       "      <th>-4</th>\n",
       "      <td>71</td>\n",
       "    </tr>\n",
       "    <tr>\n",
       "      <th>-3</th>\n",
       "      <td>73</td>\n",
       "    </tr>\n",
       "    <tr>\n",
       "      <th>I love it!+5</th>\n",
       "      <td>143</td>\n",
       "    </tr>\n",
       "    <tr>\n",
       "      <th>I hate it!-5</th>\n",
       "      <td>152</td>\n",
       "    </tr>\n",
       "    <tr>\n",
       "      <th>+1</th>\n",
       "      <td>152</td>\n",
       "    </tr>\n",
       "    <tr>\n",
       "      <th>+4</th>\n",
       "      <td>160</td>\n",
       "    </tr>\n",
       "    <tr>\n",
       "      <th>0</th>\n",
       "      <td>169</td>\n",
       "    </tr>\n",
       "    <tr>\n",
       "      <th>+2</th>\n",
       "      <td>187</td>\n",
       "    </tr>\n",
       "    <tr>\n",
       "      <th>+3</th>\n",
       "      <td>229</td>\n",
       "    </tr>\n",
       "  </tbody>\n",
       "</table>\n",
       "</div>"
      ],
      "text/plain": [
       "              Like\n",
       "-1              58\n",
       "-2              59\n",
       "-4              71\n",
       "-3              73\n",
       "I love it!+5   143\n",
       "I hate it!-5   152\n",
       "+1             152\n",
       "+4             160\n",
       "0              169\n",
       "+2             187\n",
       "+3             229"
      ]
     },
     "execution_count": 67,
     "metadata": {},
     "output_type": "execute_result"
    }
   ],
   "source": [
    "\n",
    "likely_counts = pd.value_counts(df['Like'])\n",
    "\n",
    "# Reverse the order\n",
    "reversed_order_counts = likely_counts.iloc[::-1]\n",
    "# create dataframe\n",
    "reversed_df = pd.DataFrame(reversed_order_counts)\n",
    "reversed_df"
   ]
  },
  {
   "cell_type": "markdown",
   "id": "1beda1c7",
   "metadata": {},
   "source": [
    "# Step 6: Profiling Segments"
   ]
  },
  {
   "cell_type": "code",
   "execution_count": 72,
   "id": "bd066d5c",
   "metadata": {},
   "outputs": [
    {
     "data": {
      "image/png": "[encoded data removed]",
      "text/plain": [
       "<Figure size 720x432 with 4 Axes>"
      ]
     },
     "metadata": {
      "needs_background": "light"
     },
     "output_type": "display_data"
    }
   ],
   "source": [
    "#  k-means model with 4 clusters \n",
    "kmeans = binary_k_means['4']\n",
    "\n",
    "# cluster labels \n",
    "labels = kmeans.labels_\n",
    "\n",
    "binary_mean = binary_data.groupby(labels).mean()\n",
    "\n",
    "fig, axs = plt.subplots(2, 2, figsize=(10, 6))\n",
    "\n",
    "axs[0, 0].barh(range(binary_mean.shape[1]), MD_mean.iloc[0])\n",
    "axs[0, 0].set_title('Cluster 1')\n",
    "axs[0, 1].barh(range(binary_mean.shape[1]), binary_mean.iloc[1])\n",
    "axs[0, 1].set_title('Cluster 2')\n",
    "axs[1, 0].barh(range(binary_mean.shape[1]), binary_mean.iloc[2])\n",
    "axs[1, 0].set_title('Cluster 3')\n",
    "axs[1, 1].barh(range(binary_mean.shape[1]), binary_mean.iloc[3])\n",
    "axs[1, 1].set_title('Cluster 4')\n",
    "for ax in axs.flat:\n",
    "    ax.set(ylabel='Variable', xlabel='Proportion')\n",
    "    ax.set_yticks(range(binary_mean.shape[1]))\n",
    "    ax.set_yticklabels(binary_data.columns)\n",
    "for ax in axs.flat:\n",
    "    ax.label_outer()\n",
    "\n",
    "fig.suptitle(' Segment profile plot for the four-segment solution for the fast food data set')\n",
    "fig.tight_layout()\n",
    "plt.show()"
   ]
  },
  {
   "cell_type": "code",
   "execution_count": 73,
   "id": "ff58909d",
   "metadata": {},
   "outputs": [
    {
     "data": {
      "image/png": "[encoded data removed]",
      "text/plain": [
       "<Figure size 432x288 with 1 Axes>"
      ]
     },
     "metadata": {
      "needs_background": "light"
     },
     "output_type": "display_data"
    }
   ],
   "source": [
    "kmeans = KMeans(n_clusters=4)\n",
    "kmeans.fit(binary_data)\n",
    "\n",
    "pca = PCA(n_components=2)\n",
    "\n",
    "binary_data_pca = pca.fit_transform(binary_data)\n",
    "\n",
    "fig, ax = plt.subplots()\n",
    "ax.scatter(binary_data_pca[:, 0], binary_data_pca[:, 1])\n",
    "\n",
    "ax.set_xlabel('principal component 1')\n",
    "ax.set_ylabel('principal component 2')\n",
    "\n",
    "plt.show()"
   ]
  },
  {
   "cell_type": "markdown",
   "id": "5a2ab9a5",
   "metadata": {},
   "source": [
    "#  Step 7: Describing Segments"
   ]
  },
  {
   "cell_type": "code",
   "execution_count": 80,
   "id": "52cd4894",
   "metadata": {},
   "outputs": [
    {
     "data": {
      "image/png": "[encoded data removed]",
      "text/plain": [
       "<Figure size 504x504 with 3 Axes>"
      ]
     },
     "metadata": {
      "needs_background": "light"
     },
     "output_type": "display_data"
    },
    {
     "data": {
      "text/html": [
       "<div>\n",
       "<style scoped>\n",
       "    .dataframe tbody tr th:only-of-type {\n",
       "        vertical-align: middle;\n",
       "    }\n",
       "\n",
       "    .dataframe tbody tr th {\n",
       "        vertical-align: top;\n",
       "    }\n",
       "\n",
       "    .dataframe thead th {\n",
       "        text-align: right;\n",
       "    }\n",
       "</style>\n",
       "<table border=\"1\" class=\"dataframe\">\n",
       "  <thead>\n",
       "    <tr style=\"text-align: right;\">\n",
       "      <th>Like</th>\n",
       "      <th>-3</th>\n",
       "      <th>-2</th>\n",
       "      <th>-1</th>\n",
       "      <th>0</th>\n",
       "      <th>+1</th>\n",
       "      <th>+2</th>\n",
       "      <th>+3</th>\n",
       "    </tr>\n",
       "    <tr>\n",
       "      <th>cluster_num</th>\n",
       "      <th></th>\n",
       "      <th></th>\n",
       "      <th></th>\n",
       "      <th></th>\n",
       "      <th></th>\n",
       "      <th></th>\n",
       "      <th></th>\n",
       "    </tr>\n",
       "  </thead>\n",
       "  <tbody>\n",
       "    <tr>\n",
       "      <th>0</th>\n",
       "      <td>2</td>\n",
       "      <td>6</td>\n",
       "      <td>13</td>\n",
       "      <td>43</td>\n",
       "      <td>65</td>\n",
       "      <td>90</td>\n",
       "      <td>143</td>\n",
       "    </tr>\n",
       "    <tr>\n",
       "      <th>1</th>\n",
       "      <td>7</td>\n",
       "      <td>6</td>\n",
       "      <td>7</td>\n",
       "      <td>36</td>\n",
       "      <td>42</td>\n",
       "      <td>60</td>\n",
       "      <td>66</td>\n",
       "    </tr>\n",
       "    <tr>\n",
       "      <th>2</th>\n",
       "      <td>34</td>\n",
       "      <td>29</td>\n",
       "      <td>26</td>\n",
       "      <td>53</td>\n",
       "      <td>32</td>\n",
       "      <td>31</td>\n",
       "      <td>12</td>\n",
       "    </tr>\n",
       "    <tr>\n",
       "      <th>3</th>\n",
       "      <td>30</td>\n",
       "      <td>18</td>\n",
       "      <td>12</td>\n",
       "      <td>37</td>\n",
       "      <td>13</td>\n",
       "      <td>6</td>\n",
       "      <td>8</td>\n",
       "    </tr>\n",
       "  </tbody>\n",
       "</table>\n",
       "</div>"
      ],
      "text/plain": [
       "Like         -3  -2  -1   0  +1  +2   +3\n",
       "cluster_num                             \n",
       "0             2   6  13  43  65  90  143\n",
       "1             7   6   7  36  42  60   66\n",
       "2            34  29  26  53  32  31   12\n",
       "3            30  18  12  37  13   6    8"
      ]
     },
     "metadata": {},
     "output_type": "display_data"
    },
    {
     "data": {
      "text/plain": [
       "None"
      ]
     },
     "metadata": {},
     "output_type": "display_data"
    }
   ],
   "source": [
    "df['cluster_num'] = kmeans.labels_\n",
    "# crosstab creation\n",
    "tab = pd.crosstab(df['cluster_num'], df['Like'])\n",
    "tab = crosstab[['-3','-2','-1','0','+1','+2','+3']]\n",
    "tab\n",
    "\n",
    "# plotting mosaic plot\n",
    "plt.rcParams['figure.figsize'] = (7,7)\n",
    "mosaic(tab.stack())\n",
    "display(tab, plt.show())"
   ]
  },
  {
   "cell_type": "code",
   "execution_count": 82,
   "id": "6aa16268",
   "metadata": {},
   "outputs": [
    {
     "data": {
      "image/png": "[encoded data removed]",
      "text/plain": [
       "<Figure size 504x360 with 3 Axes>"
      ]
     },
     "metadata": {
      "needs_background": "light"
     },
     "output_type": "display_data"
    },
    {
     "data": {
      "text/html": [
       "<div>\n",
       "<style scoped>\n",
       "    .dataframe tbody tr th:only-of-type {\n",
       "        vertical-align: middle;\n",
       "    }\n",
       "\n",
       "    .dataframe tbody tr th {\n",
       "        vertical-align: top;\n",
       "    }\n",
       "\n",
       "    .dataframe thead th {\n",
       "        text-align: right;\n",
       "    }\n",
       "</style>\n",
       "<table border=\"1\" class=\"dataframe\">\n",
       "  <thead>\n",
       "    <tr style=\"text-align: right;\">\n",
       "      <th>Like</th>\n",
       "      <th>-3</th>\n",
       "      <th>-2</th>\n",
       "      <th>-1</th>\n",
       "      <th>0</th>\n",
       "      <th>+1</th>\n",
       "      <th>+2</th>\n",
       "      <th>+3</th>\n",
       "    </tr>\n",
       "    <tr>\n",
       "      <th>cluster_num</th>\n",
       "      <th></th>\n",
       "      <th></th>\n",
       "      <th></th>\n",
       "      <th></th>\n",
       "      <th></th>\n",
       "      <th></th>\n",
       "      <th></th>\n",
       "    </tr>\n",
       "  </thead>\n",
       "  <tbody>\n",
       "    <tr>\n",
       "      <th>0</th>\n",
       "      <td>2</td>\n",
       "      <td>6</td>\n",
       "      <td>13</td>\n",
       "      <td>43</td>\n",
       "      <td>65</td>\n",
       "      <td>90</td>\n",
       "      <td>143</td>\n",
       "    </tr>\n",
       "    <tr>\n",
       "      <th>1</th>\n",
       "      <td>7</td>\n",
       "      <td>6</td>\n",
       "      <td>7</td>\n",
       "      <td>36</td>\n",
       "      <td>42</td>\n",
       "      <td>60</td>\n",
       "      <td>66</td>\n",
       "    </tr>\n",
       "    <tr>\n",
       "      <th>2</th>\n",
       "      <td>34</td>\n",
       "      <td>29</td>\n",
       "      <td>26</td>\n",
       "      <td>53</td>\n",
       "      <td>32</td>\n",
       "      <td>31</td>\n",
       "      <td>12</td>\n",
       "    </tr>\n",
       "    <tr>\n",
       "      <th>3</th>\n",
       "      <td>30</td>\n",
       "      <td>18</td>\n",
       "      <td>12</td>\n",
       "      <td>37</td>\n",
       "      <td>13</td>\n",
       "      <td>6</td>\n",
       "      <td>8</td>\n",
       "    </tr>\n",
       "  </tbody>\n",
       "</table>\n",
       "</div>"
      ],
      "text/plain": [
       "Like         -3  -2  -1   0  +1  +2   +3\n",
       "cluster_num                             \n",
       "0             2   6  13  43  65  90  143\n",
       "1             7   6   7  36  42  60   66\n",
       "2            34  29  26  53  32  31   12\n",
       "3            30  18  12  37  13   6    8"
      ]
     },
     "metadata": {},
     "output_type": "display_data"
    },
    {
     "data": {
      "text/plain": [
       "None"
      ]
     },
     "metadata": {},
     "output_type": "display_data"
    }
   ],
   "source": [
    "tab_gender = pd.crosstab(df['cluster_num'],df['Gender'])\n",
    "tab_gender\n",
    "\n",
    "# plotting mosaic plot\n",
    "plt.rcParams['figure.figsize'] = (7,5)\n",
    "mosaic(tab_gender.stack())\n",
    "display(tab, plt.show())"
   ]
  },
  {
   "cell_type": "code",
   "execution_count": 83,
   "id": "0e9439be",
   "metadata": {},
   "outputs": [
    {
     "data": {
      "image/png": "[encoded data removed]",
      "text/plain": [
       "<Figure size 504x360 with 1 Axes>"
      ]
     },
     "metadata": {
      "needs_background": "light"
     },
     "output_type": "display_data"
    }
   ],
   "source": [
    "\n",
    "# box plot for 'Age'\n",
    "sns.boxplot(x=\"cluster_num\", y=\"Age\", data=df);"
   ]
  },
  {
   "cell_type": "markdown",
   "id": "befae735",
   "metadata": {},
   "source": [
    "#  Step 8: Selecting (the) Target Segment(s)"
   ]
  },
  {
   "cell_type": "code",
   "execution_count": 86,
   "id": "6c8dc5a7",
   "metadata": {},
   "outputs": [
    {
     "data": {
      "text/html": [
       "<div>\n",
       "<style scoped>\n",
       "    .dataframe tbody tr th:only-of-type {\n",
       "        vertical-align: middle;\n",
       "    }\n",
       "\n",
       "    .dataframe tbody tr th {\n",
       "        vertical-align: top;\n",
       "    }\n",
       "\n",
       "    .dataframe thead th {\n",
       "        text-align: right;\n",
       "    }\n",
       "</style>\n",
       "<table border=\"1\" class=\"dataframe\">\n",
       "  <thead>\n",
       "    <tr style=\"text-align: right;\">\n",
       "      <th></th>\n",
       "      <th>cluster_num</th>\n",
       "      <th>VisitFrequency</th>\n",
       "    </tr>\n",
       "  </thead>\n",
       "  <tbody>\n",
       "    <tr>\n",
       "      <th>0</th>\n",
       "      <td>0</td>\n",
       "      <td>2.584483</td>\n",
       "    </tr>\n",
       "    <tr>\n",
       "      <th>1</th>\n",
       "      <td>1</td>\n",
       "      <td>2.540123</td>\n",
       "    </tr>\n",
       "    <tr>\n",
       "      <th>2</th>\n",
       "      <td>2</td>\n",
       "      <td>2.809061</td>\n",
       "    </tr>\n",
       "    <tr>\n",
       "      <th>3</th>\n",
       "      <td>3</td>\n",
       "      <td>2.679167</td>\n",
       "    </tr>\n",
       "  </tbody>\n",
       "</table>\n",
       "</div>"
      ],
      "text/plain": [
       "   cluster_num  VisitFrequency\n",
       "0            0        2.584483\n",
       "1            1        2.540123\n",
       "2            2        2.809061\n",
       "3            3        2.679167"
      ]
     },
     "execution_count": 86,
     "metadata": {},
     "output_type": "execute_result"
    }
   ],
   "source": [
    "df['VisitFrequency'] = LabelEncoder().fit_transform(df['VisitFrequency'])\n",
    "visit_freq = df.groupby('cluster_num')['VisitFrequency'].mean()\n",
    "visit_freq = visit_freq.to_frame().reset_index()\n",
    "visit_freq"
   ]
  },
  {
   "cell_type": "code",
   "execution_count": 87,
   "id": "f9b2b6b6",
   "metadata": {},
   "outputs": [
    {
     "data": {
      "text/html": [
       "<div>\n",
       "<style scoped>\n",
       "    .dataframe tbody tr th:only-of-type {\n",
       "        vertical-align: middle;\n",
       "    }\n",
       "\n",
       "    .dataframe tbody tr th {\n",
       "        vertical-align: top;\n",
       "    }\n",
       "\n",
       "    .dataframe thead th {\n",
       "        text-align: right;\n",
       "    }\n",
       "</style>\n",
       "<table border=\"1\" class=\"dataframe\">\n",
       "  <thead>\n",
       "    <tr style=\"text-align: right;\">\n",
       "      <th></th>\n",
       "      <th>cluster_num</th>\n",
       "      <th>Like</th>\n",
       "    </tr>\n",
       "  </thead>\n",
       "  <tbody>\n",
       "    <tr>\n",
       "      <th>0</th>\n",
       "      <td>0</td>\n",
       "      <td>3.794828</td>\n",
       "    </tr>\n",
       "    <tr>\n",
       "      <th>1</th>\n",
       "      <td>1</td>\n",
       "      <td>3.808642</td>\n",
       "    </tr>\n",
       "    <tr>\n",
       "      <th>2</th>\n",
       "      <td>2</td>\n",
       "      <td>5.423948</td>\n",
       "    </tr>\n",
       "    <tr>\n",
       "      <th>3</th>\n",
       "      <td>3</td>\n",
       "      <td>6.775000</td>\n",
       "    </tr>\n",
       "  </tbody>\n",
       "</table>\n",
       "</div>"
      ],
      "text/plain": [
       "   cluster_num      Like\n",
       "0            0  3.794828\n",
       "1            1  3.808642\n",
       "2            2  5.423948\n",
       "3            3  6.775000"
      ]
     },
     "execution_count": 87,
     "metadata": {},
     "output_type": "execute_result"
    }
   ],
   "source": [
    "# calculating the mean of 'Like'\n",
    "df['Like'] = LabelEncoder().fit_transform(df['Like'])\n",
    "like = df.groupby('cluster_num')['Like'].mean()\n",
    "like = like.to_frame().reset_index()\n",
    "like"
   ]
  },
  {
   "cell_type": "code",
   "execution_count": 88,
   "id": "7be29c1e",
   "metadata": {},
   "outputs": [
    {
     "data": {
      "text/html": [
       "<div>\n",
       "<style scoped>\n",
       "    .dataframe tbody tr th:only-of-type {\n",
       "        vertical-align: middle;\n",
       "    }\n",
       "\n",
       "    .dataframe tbody tr th {\n",
       "        vertical-align: top;\n",
       "    }\n",
       "\n",
       "    .dataframe thead th {\n",
       "        text-align: right;\n",
       "    }\n",
       "</style>\n",
       "<table border=\"1\" class=\"dataframe\">\n",
       "  <thead>\n",
       "    <tr style=\"text-align: right;\">\n",
       "      <th></th>\n",
       "      <th>cluster_num</th>\n",
       "      <th>Gender</th>\n",
       "    </tr>\n",
       "  </thead>\n",
       "  <tbody>\n",
       "    <tr>\n",
       "      <th>0</th>\n",
       "      <td>0</td>\n",
       "      <td>0.398276</td>\n",
       "    </tr>\n",
       "    <tr>\n",
       "      <th>1</th>\n",
       "      <td>1</td>\n",
       "      <td>0.521605</td>\n",
       "    </tr>\n",
       "    <tr>\n",
       "      <th>2</th>\n",
       "      <td>2</td>\n",
       "      <td>0.407767</td>\n",
       "    </tr>\n",
       "    <tr>\n",
       "      <th>3</th>\n",
       "      <td>3</td>\n",
       "      <td>0.579167</td>\n",
       "    </tr>\n",
       "  </tbody>\n",
       "</table>\n",
       "</div>"
      ],
      "text/plain": [
       "   cluster_num    Gender\n",
       "0            0  0.398276\n",
       "1            1  0.521605\n",
       "2            2  0.407767\n",
       "3            3  0.579167"
      ]
     },
     "execution_count": 88,
     "metadata": {},
     "output_type": "execute_result"
    }
   ],
   "source": [
    "\n",
    "# calculating the mean of 'Gender'\n",
    "df['Gender'] = LabelEncoder().fit_transform(df['Gender'])\n",
    "Gender = df.groupby('cluster_num')['Gender'].mean()\n",
    "Gender = Gender.to_frame().reset_index()\n",
    "Gender"
   ]
  },
  {
   "cell_type": "code",
   "execution_count": 90,
   "id": "208f590f",
   "metadata": {},
   "outputs": [
    {
     "data": {
      "text/html": [
       "<div>\n",
       "<style scoped>\n",
       "    .dataframe tbody tr th:only-of-type {\n",
       "        vertical-align: middle;\n",
       "    }\n",
       "\n",
       "    .dataframe tbody tr th {\n",
       "        vertical-align: top;\n",
       "    }\n",
       "\n",
       "    .dataframe thead th {\n",
       "        text-align: right;\n",
       "    }\n",
       "</style>\n",
       "<table border=\"1\" class=\"dataframe\">\n",
       "  <thead>\n",
       "    <tr style=\"text-align: right;\">\n",
       "      <th></th>\n",
       "      <th>cluster_num</th>\n",
       "      <th>Gender</th>\n",
       "      <th>Like</th>\n",
       "      <th>VisitFrequency</th>\n",
       "    </tr>\n",
       "  </thead>\n",
       "  <tbody>\n",
       "    <tr>\n",
       "      <th>0</th>\n",
       "      <td>0</td>\n",
       "      <td>0.398276</td>\n",
       "      <td>3.794828</td>\n",
       "      <td>2.584483</td>\n",
       "    </tr>\n",
       "    <tr>\n",
       "      <th>1</th>\n",
       "      <td>1</td>\n",
       "      <td>0.521605</td>\n",
       "      <td>3.808642</td>\n",
       "      <td>2.540123</td>\n",
       "    </tr>\n",
       "    <tr>\n",
       "      <th>2</th>\n",
       "      <td>2</td>\n",
       "      <td>0.407767</td>\n",
       "      <td>5.423948</td>\n",
       "      <td>2.809061</td>\n",
       "    </tr>\n",
       "    <tr>\n",
       "      <th>3</th>\n",
       "      <td>3</td>\n",
       "      <td>0.579167</td>\n",
       "      <td>6.775000</td>\n",
       "      <td>2.679167</td>\n",
       "    </tr>\n",
       "  </tbody>\n",
       "</table>\n",
       "</div>"
      ],
      "text/plain": [
       "   cluster_num    Gender      Like  VisitFrequency\n",
       "0            0  0.398276  3.794828        2.584483\n",
       "1            1  0.521605  3.808642        2.540123\n",
       "2            2  0.407767  5.423948        2.809061\n",
       "3            3  0.579167  6.775000        2.679167"
      ]
     },
     "execution_count": 90,
     "metadata": {},
     "output_type": "execute_result"
    }
   ],
   "source": [
    "\n",
    "segment = Gender.merge(like, on='cluster_num', how='left').merge(visit, on='cluster_num', how='left')\n",
    "segment"
   ]
  },
  {
   "cell_type": "code",
   "execution_count": 91,
   "id": "1538ddd5",
   "metadata": {},
   "outputs": [
    {
     "data": {
      "image/png": "[encoded data removed]",
      "text/plain": [
       "<Figure size 648x288 with 1 Axes>"
      ]
     },
     "metadata": {
      "needs_background": "light"
     },
     "output_type": "display_data"
    }
   ],
   "source": [
    "\n",
    "# targeting segments\n",
    "plt.figure(figsize = (9,4))\n",
    "sns.scatterplot(x = \"VisitFrequency\", y = \"Like\",data=segment,s=400, color=\"r\")\n",
    "plt.title(\"Simple segment evaluation plot for the fast food data set\", fontsize = 15) \n",
    "plt.xlabel(\"Visit\", fontsize = 12) \n",
    "plt.ylabel(\"Like\", fontsize = 12) \n",
    "plt.show()\n",
    "     "
   ]
  },
  {
   "cell_type": "code",
   "execution_count": null,
   "id": "f00a6ba9",
   "metadata": {},
   "outputs": [],
   "source": []
  }
 ],
 "metadata": {
  "kernelspec": {
   "display_name": "Python 3 (ipykernel)",
   "language": "python",
   "name": "python3"
  },
  "language_info": {
   "codemirror_mode": {
    "name": "ipython",
    "version": 3
   },
   "file_extension": ".py",
   "mimetype": "text/x-python",
   "name": "python",
   "nbconvert_exporter": "python",
   "pygments_lexer": "ipython3",
   "version": "3.9.7"
  }
 },
 "nbformat": 4,
 "nbformat_minor": 5
}
